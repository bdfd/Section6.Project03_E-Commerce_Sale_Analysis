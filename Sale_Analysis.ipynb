{
  "nbformat": 4,
  "nbformat_minor": 0,
  "metadata": {
    "colab": {
      "name": "Personal Project-Sale Analysis",
      "provenance": [],
      "mount_file_id": "1VQonARm8GXB8xNq0kWSHrMrtvb_7m1pz",
      "authorship_tag": "ABX9TyOTolOwvu5rBNwIj/9/hiML",
      "include_colab_link": true
    },
    "kernelspec": {
      "name": "python3",
      "display_name": "Python 3"
    },
    "language_info": {
      "name": "python"
    }
  },
  "cells": [
    {
      "cell_type": "markdown",
      "metadata": {
        "id": "view-in-github",
        "colab_type": "text"
      },
      "source": [
        "<a href=\"https://colab.research.google.com/github/bdfd/Project-Sale_Analysis-DS/blob/main/Sale_Analysis.ipynb\" target=\"_parent\"><img src=\"https://colab.research.google.com/assets/colab-badge.svg\" alt=\"Open In Colab\"/></a>"
      ]
    },
    {
      "cell_type": "code",
      "metadata": {
        "id": "g2niLbvzyKSg"
      },
      "source": [
        "# data analysis and wrangling\n",
        "import pandas as pd\n",
        "import numpy as np\n",
        "import random as rnd\n",
        "import warnings\n",
        "\n",
        "# import from google colab\n",
        "from google.colab import drive\n",
        "\n",
        "# # visualization\n",
        "# import seaborn as sns\n",
        "# import matplotlib.pyplot as plt\n",
        "# %matplotlib inline\n",
        "\n",
        "# # machine learning\n",
        "# from scipy import stats\n",
        "# from scipy.stats import norm\n",
        "# from sklearn.preprocessing import StandardScaler\n",
        "# from sklearn.linear_model import LogisticRegression\n",
        "# from sklearn.svm import SVC, LinearSVC\n",
        "# from sklearn.ensemble import RandomForestClassifier\n",
        "# from sklearn.neighbors import KNeighborsClassifier\n",
        "# from sklearn.naive_bayes import GaussianNB\n",
        "# from sklearn.linear_model import Perceptron\n",
        "# from sklearn.linear_model import SGDClassifier\n",
        "# from sklearn.tree import DecisionTreeClassifier"
      ],
      "execution_count": 1,
      "outputs": []
    },
    {
      "cell_type": "markdown",
      "source": [
        "## Import and Concate Dataset"
      ],
      "metadata": {
        "id": "DzkbNAgem2mn"
      }
    },
    {
      "cell_type": "code",
      "metadata": {
        "id": "3KI0NBEjwe89"
      },
      "source": [
        "# Step 1: Import dataset and Check data\n",
        "month1_dataset = pd.read_csv('https://raw.githubusercontent.com/bdfd/Project-Sale_Analysis-DS/main/dateset/Sales_January_2019.csv')\n",
        "month2_dataset = pd.read_csv('https://raw.githubusercontent.com/bdfd/Project-Sale_Analysis-DS/main/dateset/Sales_February_2019.csv')\n",
        "month3_dataset = pd.read_csv('https://raw.githubusercontent.com/bdfd/Project-Sale_Analysis-DS/main/dateset/Sales_March_2019.csv')\n",
        "month4_dataset = pd.read_csv('https://raw.githubusercontent.com/bdfd/Project-Sale_Analysis-DS/main/dateset/Sales_April_2019.csv')\n",
        "month5_dataset = pd.read_csv('https://raw.githubusercontent.com/bdfd/Project-Sale_Analysis-DS/main/dateset/Sales_May_2019.csv')\n",
        "month6_dataset = pd.read_csv('https://raw.githubusercontent.com/bdfd/Project-Sale_Analysis-DS/main/dateset/Sales_June_2019.csv')\n",
        "month7_dataset = pd.read_csv('https://raw.githubusercontent.com/bdfd/Project-Sale_Analysis-DS/main/dateset/Sales_July_2019.csv')\n",
        "month8_dataset = pd.read_csv('https://raw.githubusercontent.com/bdfd/Project-Sale_Analysis-DS/main/dateset/Sales_August_2019.csv')\n",
        "month9_dataset = pd.read_csv('https://raw.githubusercontent.com/bdfd/Project-Sale_Analysis-DS/main/dateset/Sales_September_2019.csv')\n",
        "month10_dataset = pd.read_csv('https://raw.githubusercontent.com/bdfd/Project-Sale_Analysis-DS/main/dateset/Sales_October_2019.csv')\n",
        "month11_dataset = pd.read_csv('https://raw.githubusercontent.com/bdfd/Project-Sale_Analysis-DS/main/dateset/Sales_November_2019.csv')\n",
        "month12_dataset = pd.read_csv('https://raw.githubusercontent.com/bdfd/Project-Sale_Analysis-DS/main/dateset/Sales_December_2019.csv')"
      ],
      "execution_count": 9,
      "outputs": []
    },
    {
      "cell_type": "code",
      "source": [
        "# Step 2: Concate into One File\n",
        "data_collection = pd.DataFrame()\n",
        "df = pd.concat([data_collection, month1_dataset])\n",
        "all_month_data = pd.concat([data_collection, month1_dataset, month2_dataset,month3_dataset,month4_dataset,month5_dataset,month6_dataset,month7_dataset,month8_dataset,month9_dataset,month10_dataset,month11_dataset,month12_dataset ])"
      ],
      "metadata": {
        "id": "-OQm256EnG-u"
      },
      "execution_count": 13,
      "outputs": []
    },
    {
      "cell_type": "code",
      "source": [
        "df.head()"
      ],
      "metadata": {
        "colab": {
          "base_uri": "https://localhost:8080/",
          "height": 206
        },
        "id": "apdIk324nYYX",
        "outputId": "2423d0c1-989e-4004-cc5f-5b233827d1ce"
      },
      "execution_count": 12,
      "outputs": [
        {
          "output_type": "execute_result",
          "data": {
            "text/html": [
              "\n",
              "  <div id=\"df-4727a1f0-66c2-4a18-a112-51fbf2ed5cef\">\n",
              "    <div class=\"colab-df-container\">\n",
              "      <div>\n",
              "<style scoped>\n",
              "    .dataframe tbody tr th:only-of-type {\n",
              "        vertical-align: middle;\n",
              "    }\n",
              "\n",
              "    .dataframe tbody tr th {\n",
              "        vertical-align: top;\n",
              "    }\n",
              "\n",
              "    .dataframe thead th {\n",
              "        text-align: right;\n",
              "    }\n",
              "</style>\n",
              "<table border=\"1\" class=\"dataframe\">\n",
              "  <thead>\n",
              "    <tr style=\"text-align: right;\">\n",
              "      <th></th>\n",
              "      <th>Order ID</th>\n",
              "      <th>Product</th>\n",
              "      <th>Quantity Ordered</th>\n",
              "      <th>Price Each</th>\n",
              "      <th>Order Date</th>\n",
              "      <th>Purchase Address</th>\n",
              "    </tr>\n",
              "  </thead>\n",
              "  <tbody>\n",
              "    <tr>\n",
              "      <th>0</th>\n",
              "      <td>141234</td>\n",
              "      <td>iPhone</td>\n",
              "      <td>1</td>\n",
              "      <td>700</td>\n",
              "      <td>01/22/19 21:25</td>\n",
              "      <td>944 Walnut St, Boston, MA 02215</td>\n",
              "    </tr>\n",
              "    <tr>\n",
              "      <th>1</th>\n",
              "      <td>141235</td>\n",
              "      <td>Lightning Charging Cable</td>\n",
              "      <td>1</td>\n",
              "      <td>14.95</td>\n",
              "      <td>01/28/19 14:15</td>\n",
              "      <td>185 Maple St, Portland, OR 97035</td>\n",
              "    </tr>\n",
              "    <tr>\n",
              "      <th>2</th>\n",
              "      <td>141236</td>\n",
              "      <td>Wired Headphones</td>\n",
              "      <td>2</td>\n",
              "      <td>11.99</td>\n",
              "      <td>01/17/19 13:33</td>\n",
              "      <td>538 Adams St, San Francisco, CA 94016</td>\n",
              "    </tr>\n",
              "    <tr>\n",
              "      <th>3</th>\n",
              "      <td>141237</td>\n",
              "      <td>27in FHD Monitor</td>\n",
              "      <td>1</td>\n",
              "      <td>149.99</td>\n",
              "      <td>01/05/19 20:33</td>\n",
              "      <td>738 10th St, Los Angeles, CA 90001</td>\n",
              "    </tr>\n",
              "    <tr>\n",
              "      <th>4</th>\n",
              "      <td>141238</td>\n",
              "      <td>Wired Headphones</td>\n",
              "      <td>1</td>\n",
              "      <td>11.99</td>\n",
              "      <td>01/25/19 11:59</td>\n",
              "      <td>387 10th St, Austin, TX 73301</td>\n",
              "    </tr>\n",
              "  </tbody>\n",
              "</table>\n",
              "</div>\n",
              "      <button class=\"colab-df-convert\" onclick=\"convertToInteractive('df-4727a1f0-66c2-4a18-a112-51fbf2ed5cef')\"\n",
              "              title=\"Convert this dataframe to an interactive table.\"\n",
              "              style=\"display:none;\">\n",
              "        \n",
              "  <svg xmlns=\"http://www.w3.org/2000/svg\" height=\"24px\"viewBox=\"0 0 24 24\"\n",
              "       width=\"24px\">\n",
              "    <path d=\"M0 0h24v24H0V0z\" fill=\"none\"/>\n",
              "    <path d=\"M18.56 5.44l.94 2.06.94-2.06 2.06-.94-2.06-.94-.94-2.06-.94 2.06-2.06.94zm-11 1L8.5 8.5l.94-2.06 2.06-.94-2.06-.94L8.5 2.5l-.94 2.06-2.06.94zm10 10l.94 2.06.94-2.06 2.06-.94-2.06-.94-.94-2.06-.94 2.06-2.06.94z\"/><path d=\"M17.41 7.96l-1.37-1.37c-.4-.4-.92-.59-1.43-.59-.52 0-1.04.2-1.43.59L10.3 9.45l-7.72 7.72c-.78.78-.78 2.05 0 2.83L4 21.41c.39.39.9.59 1.41.59.51 0 1.02-.2 1.41-.59l7.78-7.78 2.81-2.81c.8-.78.8-2.07 0-2.86zM5.41 20L4 18.59l7.72-7.72 1.47 1.35L5.41 20z\"/>\n",
              "  </svg>\n",
              "      </button>\n",
              "      \n",
              "  <style>\n",
              "    .colab-df-container {\n",
              "      display:flex;\n",
              "      flex-wrap:wrap;\n",
              "      gap: 12px;\n",
              "    }\n",
              "\n",
              "    .colab-df-convert {\n",
              "      background-color: #E8F0FE;\n",
              "      border: none;\n",
              "      border-radius: 50%;\n",
              "      cursor: pointer;\n",
              "      display: none;\n",
              "      fill: #1967D2;\n",
              "      height: 32px;\n",
              "      padding: 0 0 0 0;\n",
              "      width: 32px;\n",
              "    }\n",
              "\n",
              "    .colab-df-convert:hover {\n",
              "      background-color: #E2EBFA;\n",
              "      box-shadow: 0px 1px 2px rgba(60, 64, 67, 0.3), 0px 1px 3px 1px rgba(60, 64, 67, 0.15);\n",
              "      fill: #174EA6;\n",
              "    }\n",
              "\n",
              "    [theme=dark] .colab-df-convert {\n",
              "      background-color: #3B4455;\n",
              "      fill: #D2E3FC;\n",
              "    }\n",
              "\n",
              "    [theme=dark] .colab-df-convert:hover {\n",
              "      background-color: #434B5C;\n",
              "      box-shadow: 0px 1px 3px 1px rgba(0, 0, 0, 0.15);\n",
              "      filter: drop-shadow(0px 1px 2px rgba(0, 0, 0, 0.3));\n",
              "      fill: #FFFFFF;\n",
              "    }\n",
              "  </style>\n",
              "\n",
              "      <script>\n",
              "        const buttonEl =\n",
              "          document.querySelector('#df-4727a1f0-66c2-4a18-a112-51fbf2ed5cef button.colab-df-convert');\n",
              "        buttonEl.style.display =\n",
              "          google.colab.kernel.accessAllowed ? 'block' : 'none';\n",
              "\n",
              "        async function convertToInteractive(key) {\n",
              "          const element = document.querySelector('#df-4727a1f0-66c2-4a18-a112-51fbf2ed5cef');\n",
              "          const dataTable =\n",
              "            await google.colab.kernel.invokeFunction('convertToInteractive',\n",
              "                                                     [key], {});\n",
              "          if (!dataTable) return;\n",
              "\n",
              "          const docLinkHtml = 'Like what you see? Visit the ' +\n",
              "            '<a target=\"_blank\" href=https://colab.research.google.com/notebooks/data_table.ipynb>data table notebook</a>'\n",
              "            + ' to learn more about interactive tables.';\n",
              "          element.innerHTML = '';\n",
              "          dataTable['output_type'] = 'display_data';\n",
              "          await google.colab.output.renderOutput(dataTable, element);\n",
              "          const docLink = document.createElement('div');\n",
              "          docLink.innerHTML = docLinkHtml;\n",
              "          element.appendChild(docLink);\n",
              "        }\n",
              "      </script>\n",
              "    </div>\n",
              "  </div>\n",
              "  "
            ],
            "text/plain": [
              "  Order ID  ...                       Purchase Address\n",
              "0   141234  ...        944 Walnut St, Boston, MA 02215\n",
              "1   141235  ...       185 Maple St, Portland, OR 97035\n",
              "2   141236  ...  538 Adams St, San Francisco, CA 94016\n",
              "3   141237  ...     738 10th St, Los Angeles, CA 90001\n",
              "4   141238  ...          387 10th St, Austin, TX 73301\n",
              "\n",
              "[5 rows x 6 columns]"
            ]
          },
          "metadata": {},
          "execution_count": 12
        }
      ]
    },
    {
      "cell_type": "code",
      "source": [
        "# Step3: Combine into one file, and save to local\n",
        "all_month_data.to_csv(\"all_data.csv\",index=False)"
      ],
      "metadata": {
        "id": "wWNS6h_Ro7zX"
      },
      "execution_count": 15,
      "outputs": []
    },
    {
      "cell_type": "markdown",
      "source": [
        "## New Section"
      ],
      "metadata": {
        "id": "QtPUy5aylXUm"
      }
    },
    {
      "cell_type": "code",
      "source": [
        ""
      ],
      "metadata": {
        "id": "30SBURHGnEqv"
      },
      "execution_count": null,
      "outputs": []
    },
    {
      "cell_type": "code",
      "metadata": {
        "id": "_pdke16W7AiE"
      },
      "source": [
        "combine"
      ],
      "execution_count": null,
      "outputs": []
    }
  ]
}